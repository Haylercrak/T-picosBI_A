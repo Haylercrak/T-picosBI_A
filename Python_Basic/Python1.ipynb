{
 "cells": [
  {
   "cell_type": "markdown",
   "id": "9616eab5",
   "metadata": {},
   "source": [
    "# Python for big data\n",
    "\n",
    "1. Variebles\n",
    "2. String\n",
    "3. Fuction print\n",
    "4. Booleanos y Condicionales\n",
    "5. Loops\n",
    "6. Funciones\n",
    "7. Manejo de exepciones\n"
   ]
  },
  {
   "cell_type": "markdown",
   "id": "360498b8",
   "metadata": {},
   "source": [
    "# 1. Variables "
   ]
  },
  {
   "cell_type": "code",
   "execution_count": null,
   "id": "cb30f015",
   "metadata": {},
   "outputs": [],
   "source": [
    "#  Variables\n",
    "resultado"
   ]
  },
  {
   "cell_type": "code",
   "execution_count": null,
   "id": "6de7eb9f",
   "metadata": {},
   "outputs": [],
   "source": [
    "# Declaracion de vcariables\n",
    "monto_deuda=1000\n",
    "moneda=\"soles\"\n"
   ]
  },
  {
   "cell_type": "code",
   "execution_count": null,
   "id": "1320ad47",
   "metadata": {},
   "outputs": [],
   "source": [
    "# mostrar Variables\n",
    "monto_deuda"
   ]
  },
  {
   "cell_type": "code",
   "execution_count": null,
   "id": "9a00a501",
   "metadata": {},
   "outputs": [],
   "source": [
    "moneda"
   ]
  },
  {
   "cell_type": "code",
   "execution_count": null,
   "id": "fc6359bd",
   "metadata": {},
   "outputs": [],
   "source": [
    "# Interactuar con el usuario\n",
    "monto_interes=int(input(\"Ingrese el interes:\"))"
   ]
  },
  {
   "cell_type": "code",
   "execution_count": null,
   "id": "fb9bae55",
   "metadata": {},
   "outputs": [],
   "source": [
    "# Operando \n",
    "resultado =monto_deuda*4\n",
    "resultado"
   ]
  },
  {
   "cell_type": "code",
   "execution_count": null,
   "id": "a2887cfd",
   "metadata": {},
   "outputs": [],
   "source": [
    "# tipo de variable\n",
    "type(monto_deuda)"
   ]
  },
  {
   "cell_type": "code",
   "execution_count": null,
   "id": "6e1ddc42",
   "metadata": {},
   "outputs": [],
   "source": [
    "type(moneda)"
   ]
  },
  {
   "cell_type": "code",
   "execution_count": null,
   "id": "d2eea001",
   "metadata": {},
   "outputs": [],
   "source": [
    "# operar variables\n",
    "4*resultado"
   ]
  },
  {
   "cell_type": "code",
   "execution_count": null,
   "id": "a339c6cf",
   "metadata": {},
   "outputs": [],
   "source": [
    "# canbiando tipo variable\n",
    "str_monto_deuda=str(monto_deuda)\n",
    "str_monto_deuda"
   ]
  },
  {
   "cell_type": "code",
   "execution_count": null,
   "id": "0e124de0",
   "metadata": {},
   "outputs": [],
   "source": [
    "int_monto_deuda=int(str_monto_deuda)\n",
    "int_monto_deuda"
   ]
  },
  {
   "cell_type": "markdown",
   "id": "4ddb4d73",
   "metadata": {},
   "source": [
    "# 2. "
   ]
  }
 ],
 "metadata": {
  "language_info": {
   "name": "python"
  }
 },
 "nbformat": 4,
 "nbformat_minor": 5
}
