{
 "cells": [
  {
   "cell_type": "markdown",
   "id": "9616eab5",
   "metadata": {},
   "source": [
    "# Python for big data\n",
    "\n",
    "1. Variables\n",
    "2. Strings\n",
    "3. Función print\n",
    "4. Booleanos y Condicionales\n",
    "5. Loops\n",
    "6. Funciones\n",
    "7. Manejo de excepciones\n"
   ]
  },
  {
   "cell_type": "markdown",
   "id": "360498b8",
   "metadata": {},
   "source": [
    "# 1. Variables "
   ]
  },
  {
   "cell_type": "code",
   "execution_count": 18,
   "id": "cb30f015",
   "metadata": {},
   "outputs": [
    {
     "ename": "NameError",
     "evalue": "name 'resultado' is not defined",
     "output_type": "error",
     "traceback": [
      "\u001b[31m---------------------------------------------------------------------------\u001b[39m",
      "\u001b[31mNameError\u001b[39m                                 Traceback (most recent call last)",
      "\u001b[36mCell\u001b[39m\u001b[36m \u001b[39m\u001b[32mIn[18]\u001b[39m\u001b[32m, line 2\u001b[39m\n\u001b[32m      1\u001b[39m \u001b[38;5;66;03m#  Variables\u001b[39;00m\n\u001b[32m----> \u001b[39m\u001b[32m2\u001b[39m \u001b[43mresultado\u001b[49m\n",
      "\u001b[31mNameError\u001b[39m: name 'resultado' is not defined"
     ]
    }
   ],
   "source": [
    "#  Variables\n",
    "resultado"
   ]
  },
  {
   "cell_type": "code",
   "execution_count": null,
   "id": "6de7eb9f",
   "metadata": {},
   "outputs": [],
   "source": [
    "# Declaración de variables\n",
    "monto_deuda=1000\n",
    "moneda=\"soles\"\n"
   ]
  },
  {
   "cell_type": "code",
   "execution_count": null,
   "id": "1320ad47",
   "metadata": {},
   "outputs": [
    {
     "data": {
      "text/plain": [
       "1000"
      ]
     },
     "execution_count": 9,
     "metadata": {},
     "output_type": "execute_result"
    }
   ],
   "source": [
    "# mostrar variables\n",
    "monto_deuda"
   ]
  },
  {
   "cell_type": "code",
   "execution_count": null,
   "id": "9a00a501",
   "metadata": {},
   "outputs": [
    {
     "data": {
      "text/plain": [
       "'soles'"
      ]
     },
     "execution_count": 10,
     "metadata": {},
     "output_type": "execute_result"
    }
   ],
   "source": [
    "moneda"
   ]
  },
  {
   "cell_type": "code",
   "execution_count": null,
   "id": "fc6359bd",
   "metadata": {},
   "outputs": [],
   "source": [
    "# Interactuar con el usuario\n",
    "monto_interes=int(input(\"Ingrese el interes:\"))"
   ]
  },
  {
   "cell_type": "code",
   "execution_count": null,
   "id": "fb9bae55",
   "metadata": {},
   "outputs": [
    {
     "data": {
      "text/plain": [
       "4000"
      ]
     },
     "execution_count": 11,
     "metadata": {},
     "output_type": "execute_result"
    }
   ],
   "source": [
    "# Operando \n",
    "resultado = monto_deuda * 4\n",
    "resultado"
   ]
  },
  {
   "cell_type": "code",
   "execution_count": null,
   "id": "a2887cfd",
   "metadata": {},
   "outputs": [
    {
     "data": {
      "text/plain": [
       "int"
      ]
     },
     "execution_count": 12,
     "metadata": {},
     "output_type": "execute_result"
    }
   ],
   "source": [
    "# tipo de variable\n",
    "type(monto_deuda)"
   ]
  },
  {
   "cell_type": "code",
   "execution_count": null,
   "id": "6e1ddc42",
   "metadata": {},
   "outputs": [
    {
     "data": {
      "text/plain": [
       "str"
      ]
     },
     "execution_count": 13,
     "metadata": {},
     "output_type": "execute_result"
    }
   ],
   "source": [
    "type(moneda)"
   ]
  },
  {
   "cell_type": "code",
   "execution_count": null,
   "id": "d2eea001",
   "metadata": {},
   "outputs": [
    {
     "data": {
      "text/plain": [
       "16000"
      ]
     },
     "execution_count": 14,
     "metadata": {},
     "output_type": "execute_result"
    }
   ],
   "source": [
    "# operando variables\n",
    "4 * resultado"
   ]
  },
  {
   "cell_type": "code",
   "execution_count": null,
   "id": "a339c6cf",
   "metadata": {},
   "outputs": [
    {
     "data": {
      "text/plain": [
       "'1000'"
      ]
     },
     "execution_count": 15,
     "metadata": {},
     "output_type": "execute_result"
    }
   ],
   "source": [
    "# canbiando tipo variable\n",
    "str_monto_deuda=str(monto_deuda)\n",
    "str_monto_deuda"
   ]
  },
  {
   "cell_type": "code",
   "execution_count": null,
   "id": "0e124de0",
   "metadata": {},
   "outputs": [
    {
     "data": {
      "text/plain": [
       "1000"
      ]
     },
     "execution_count": 16,
     "metadata": {},
     "output_type": "execute_result"
    }
   ],
   "source": [
    "int_monto_deuda=int(str_monto_deuda)\n",
    "int_monto_deuda"
   ]
  },
  {
   "cell_type": "markdown",
   "id": "4ddb4d73",
   "metadata": {},
   "source": [
    "# 2. String"
   ]
  },
  {
   "cell_type": "code",
   "execution_count": null,
   "id": "10d874fa",
   "metadata": {},
   "outputs": [
    {
     "data": {
      "text/plain": [
       "'hola mundo'"
      ]
     },
     "execution_count": 17,
     "metadata": {},
     "output_type": "execute_result"
    }
   ],
   "source": [
    "# concatenar\n",
    "'hola' + ' ' + 'mundo'"
   ]
  },
  {
   "cell_type": "code",
   "execution_count": null,
   "id": "c130d42e",
   "metadata": {},
   "outputs": [],
   "source": [
    "# comillas simples y dobles\n",
    "text_1 = \"hola 'mundo'\"\n",
    "text_2 = 'hola \"mundo\"'"
   ]
  },
  {
   "cell_type": "code",
   "execution_count": null,
   "id": "aa25b817",
   "metadata": {},
   "outputs": [
    {
     "data": {
      "text/plain": [
       "\"hola 'mundo'\""
      ]
     },
     "execution_count": 19,
     "metadata": {},
     "output_type": "execute_result"
    }
   ],
   "source": [
    "text_1"
   ]
  },
  {
   "cell_type": "code",
   "execution_count": null,
   "id": "10fd7abf",
   "metadata": {},
   "outputs": [
    {
     "data": {
      "text/plain": [
       "'hola \"mundo\"'"
      ]
     },
     "execution_count": 20,
     "metadata": {},
     "output_type": "execute_result"
    }
   ],
   "source": [
    "text_2"
   ]
  },
  {
   "cell_type": "code",
   "execution_count": null,
   "id": "a69cbb3f",
   "metadata": {},
   "outputs": [],
   "source": [
    "# comillas triples\n",
    "consulta = \"\"\"SELECT *\n",
    "FROM users\n",
    "WHERE id=1\n",
    "GROUP BY Admin\n",
    "\"\"\""
   ]
  },
  {
   "cell_type": "code",
   "execution_count": null,
   "id": "0682bd62",
   "metadata": {},
   "outputs": [
    {
     "data": {
      "text/plain": [
       "'SELECT *\\nFROM users\\nWHERE id=1\\ngroup by Admin\\n'"
      ]
     },
     "execution_count": 22,
     "metadata": {},
     "output_type": "execute_result"
    }
   ],
   "source": [
    "consulta"
   ]
  },
  {
   "cell_type": "code",
   "execution_count": null,
   "id": "c2ffb508",
   "metadata": {},
   "outputs": [],
   "source": [
    "# operaciones con strings\n",
    "CADENA_1='hola mundo'\n",
    "CADENA_2='5'\n",
    "CADENA_3='CINCO'\n"
   ]
  },
  {
   "cell_type": "code",
   "execution_count": null,
   "id": "03dcd607",
   "metadata": {},
   "outputs": [
    {
     "data": {
      "text/plain": [
       "'Hola mundo'"
      ]
     },
     "execution_count": 24,
     "metadata": {},
     "output_type": "execute_result"
    }
   ],
   "source": [
    "CADENA_1.capitalize()"
   ]
  },
  {
   "cell_type": "code",
   "execution_count": null,
   "id": "effc1a53",
   "metadata": {},
   "outputs": [
    {
     "data": {
      "text/plain": [
       "'HOLA MUNDO'"
      ]
     },
     "execution_count": 25,
     "metadata": {},
     "output_type": "execute_result"
    }
   ],
   "source": [
    "CADENA_1.upper()"
   ]
  },
  {
   "cell_type": "code",
   "execution_count": null,
   "id": "9a50adf6",
   "metadata": {},
   "outputs": [
    {
     "data": {
      "text/plain": [
       "'cinco'"
      ]
     },
     "execution_count": 26,
     "metadata": {},
     "output_type": "execute_result"
    }
   ],
   "source": [
    "CADENA_3.lower()"
   ]
  },
  {
   "cell_type": "code",
   "execution_count": null,
   "id": "23955950",
   "metadata": {},
   "outputs": [
    {
     "data": {
      "text/plain": [
       "'Hola Mundo'"
      ]
     },
     "execution_count": 27,
     "metadata": {},
     "output_type": "execute_result"
    }
   ],
   "source": [
    "CADENA_1.title()"
   ]
  },
  {
   "cell_type": "code",
   "execution_count": null,
   "id": "3a486109",
   "metadata": {},
   "outputs": [
    {
     "data": {
      "text/plain": [
       "['hola', 'mundo']"
      ]
     },
     "execution_count": 28,
     "metadata": {},
     "output_type": "execute_result"
    }
   ],
   "source": [
    "CADENA_1.split()"
   ]
  },
  {
   "cell_type": "code",
   "execution_count": null,
   "id": "08489c47",
   "metadata": {},
   "outputs": [
    {
     "data": {
      "text/plain": [
       "2"
      ]
     },
     "execution_count": 29,
     "metadata": {},
     "output_type": "execute_result"
    }
   ],
   "source": [
    "CADENA_1.count('o')"
   ]
  },
  {
   "cell_type": "code",
   "execution_count": null,
   "id": "7b4c9185",
   "metadata": {},
   "outputs": [
    {
     "data": {
      "text/plain": [
       "10"
      ]
     },
     "execution_count": 30,
     "metadata": {},
     "output_type": "execute_result"
    }
   ],
   "source": [
    "# longitud de cadena\n",
    "len(CADENA_1)"
   ]
  },
  {
   "cell_type": "code",
   "execution_count": null,
   "id": "9a8bad88",
   "metadata": {},
   "outputs": [
    {
     "data": {
      "text/plain": [
       "['', 'ola mundo']"
      ]
     },
     "execution_count": 31,
     "metadata": {},
     "output_type": "execute_result"
    }
   ],
   "source": [
    "# quitar letra del string\n",
    "CADENA_1.split('h')"
   ]
  },
  {
   "cell_type": "code",
   "execution_count": 16,
   "id": "6d04d903",
   "metadata": {},
   "outputs": [
    {
     "data": {
      "text/plain": [
       "'(hola mundo),'"
      ]
     },
     "execution_count": 16,
     "metadata": {},
     "output_type": "execute_result"
    }
   ],
   "source": [
    "# limpiando extremos de un string\n",
    "CADENA_4 = '(hola mundo), '\n",
    "CADENA_4.strip()"
   ]
  },
  {
   "cell_type": "code",
   "execution_count": null,
   "id": "93e7eca9",
   "metadata": {},
   "outputs": [
    {
     "data": {
      "text/plain": [
       "'hola mundo'"
      ]
     },
     "execution_count": 33,
     "metadata": {},
     "output_type": "execute_result"
    }
   ],
   "source": [
    "CADENA_4.strip('(), ') "
   ]
  },
  {
   "cell_type": "code",
   "execution_count": null,
   "id": "d9ebb6e2",
   "metadata": {},
   "outputs": [
    {
     "data": {
      "text/plain": [
       "'adios mundo, adios python'"
      ]
     },
     "execution_count": 6,
     "metadata": {},
     "output_type": "execute_result"
    }
   ],
   "source": [
    "# reemplazar string\n",
    "cadena_5 = 'hola mundo, hola python'\n",
    "cadena_5.replace('hola','adios')"
   ]
  },
  {
   "cell_type": "code",
   "execution_count": 13,
   "id": "95b810e1",
   "metadata": {},
   "outputs": [
    {
     "data": {
      "text/plain": [
       "17"
      ]
     },
     "execution_count": 13,
     "metadata": {},
     "output_type": "execute_result"
    }
   ],
   "source": [
    "cadena_5.index('python')"
   ]
  },
  {
   "cell_type": "code",
   "execution_count": 14,
   "id": "ca0e51b8",
   "metadata": {},
   "outputs": [
    {
     "data": {
      "text/plain": [
       "17"
      ]
     },
     "execution_count": 14,
     "metadata": {},
     "output_type": "execute_result"
    }
   ],
   "source": [
    "cadena_5.index(\"python\",6)"
   ]
  },
  {
   "cell_type": "code",
   "execution_count": 8,
   "id": "548a1918",
   "metadata": {},
   "outputs": [
    {
     "data": {
      "text/plain": [
       "'a'"
      ]
     },
     "execution_count": 8,
     "metadata": {},
     "output_type": "execute_result"
    }
   ],
   "source": [
    "cadena_5[3]"
   ]
  },
  {
   "cell_type": "code",
   "execution_count": 9,
   "id": "9c48a1cc",
   "metadata": {},
   "outputs": [
    {
     "data": {
      "text/plain": [
       "'o'"
      ]
     },
     "execution_count": 9,
     "metadata": {},
     "output_type": "execute_result"
    }
   ],
   "source": [
    "cadena_5[-2]"
   ]
  },
  {
   "cell_type": "code",
   "execution_count": 12,
   "id": "31874453",
   "metadata": {},
   "outputs": [
    {
     "data": {
      "text/plain": [
       "'la mundo, hola pyth'"
      ]
     },
     "execution_count": 12,
     "metadata": {},
     "output_type": "execute_result"
    }
   ],
   "source": [
    "cadena_5[2:-2]"
   ]
  },
  {
   "cell_type": "code",
   "execution_count": 15,
   "id": "b62f7522",
   "metadata": {},
   "outputs": [
    {
     "data": {
      "text/plain": [
       "'nohtyp aloh ,odnum aloh'"
      ]
     },
     "execution_count": 15,
     "metadata": {},
     "output_type": "execute_result"
    }
   ],
   "source": [
    "#invirtiendo cadena\n",
    "cadena_5[::-1]"
   ]
  },
  {
   "cell_type": "code",
   "execution_count": 19,
   "id": "86920fe8",
   "metadata": {},
   "outputs": [
    {
     "data": {
      "text/plain": [
       "['HOLA', 'MUNDO']"
      ]
     },
     "execution_count": 19,
     "metadata": {},
     "output_type": "execute_result"
    }
   ],
   "source": [
    "#llamar una cadena\n",
    "CADENA_4.strip('(), ').upper().split()"
   ]
  },
  {
   "cell_type": "code",
   "execution_count": 20,
   "id": "38caa48a",
   "metadata": {},
   "outputs": [
    {
     "data": {
      "text/plain": [
       "'Hola Juan, este es el curso de Topicos especiales en Inteligencia de Negocios'"
      ]
     },
     "execution_count": 20,
     "metadata": {},
     "output_type": "execute_result"
    }
   ],
   "source": [
    "#pithon f-string\n",
    "nombre='Juan'\n",
    "curso =\"Topicos especiales en Inteligencia de Negocios\"\n",
    "f'Hola {nombre}, este es el curso de {curso}'"
   ]
  },
  {
   "cell_type": "code",
   "execution_count": 21,
   "id": "3724e811",
   "metadata": {},
   "outputs": [],
   "source": [
    "string_1=\"Hola Mundo\"\n",
    "string_2=\"5\"\n",
    "string_3='cinco'"
   ]
  },
  {
   "cell_type": "code",
   "execution_count": 22,
   "id": "87adb4c1",
   "metadata": {},
   "outputs": [
    {
     "data": {
      "text/plain": [
       "False"
      ]
     },
     "execution_count": 22,
     "metadata": {},
     "output_type": "execute_result"
    }
   ],
   "source": [
    "string_1.isdigit()"
   ]
  },
  {
   "cell_type": "code",
   "execution_count": 24,
   "id": "27d2b975",
   "metadata": {},
   "outputs": [
    {
     "data": {
      "text/plain": [
       "True"
      ]
     },
     "execution_count": 24,
     "metadata": {},
     "output_type": "execute_result"
    }
   ],
   "source": [
    "string_2.isdigit()"
   ]
  },
  {
   "cell_type": "code",
   "execution_count": 26,
   "id": "53c76b85",
   "metadata": {},
   "outputs": [
    {
     "data": {
      "text/plain": [
       "True"
      ]
     },
     "execution_count": 26,
     "metadata": {},
     "output_type": "execute_result"
    }
   ],
   "source": [
    "string_3.isalpha()"
   ]
  },
  {
   "cell_type": "code",
   "execution_count": 28,
   "id": "bb67911b",
   "metadata": {},
   "outputs": [
    {
     "data": {
      "text/plain": [
       "'abcdefghijklmnopqrstuvwxyzABCDEFGHIJKLMNOPQRSTUVWXYZ'"
      ]
     },
     "execution_count": 28,
     "metadata": {},
     "output_type": "execute_result"
    }
   ],
   "source": [
    "import string\n",
    "string.ascii_letters"
   ]
  },
  {
   "cell_type": "code",
   "execution_count": 29,
   "id": "0a542f52",
   "metadata": {},
   "outputs": [
    {
     "data": {
      "text/plain": [
       "'abcdefghijklmnopqrstuvwxyz'"
      ]
     },
     "execution_count": 29,
     "metadata": {},
     "output_type": "execute_result"
    }
   ],
   "source": [
    "string.ascii_lowercase"
   ]
  },
  {
   "cell_type": "code",
   "execution_count": 30,
   "id": "292b9a97",
   "metadata": {},
   "outputs": [
    {
     "data": {
      "text/plain": [
       "'ABCDEFGHIJKLMNOPQRSTUVWXYZ'"
      ]
     },
     "execution_count": 30,
     "metadata": {},
     "output_type": "execute_result"
    }
   ],
   "source": [
    "string.ascii_uppercase"
   ]
  },
  {
   "cell_type": "markdown",
   "id": "1598c728",
   "metadata": {},
   "source": [
    "# 3. Funcion Print"
   ]
  },
  {
   "cell_type": "code",
   "execution_count": 31,
   "id": "997a54d7",
   "metadata": {},
   "outputs": [
    {
     "name": "stdout",
     "output_type": "stream",
     "text": [
      "Hola Mundo\n"
     ]
    }
   ],
   "source": [
    "print(string_1)"
   ]
  },
  {
   "cell_type": "code",
   "execution_count": 32,
   "id": "73c303e2",
   "metadata": {},
   "outputs": [
    {
     "name": "stdout",
     "output_type": "stream",
     "text": [
      "<class 'str'>\n"
     ]
    }
   ],
   "source": [
    "print(type(string_1))"
   ]
  },
  {
   "cell_type": "code",
   "execution_count": 33,
   "id": "b694af8d",
   "metadata": {},
   "outputs": [
    {
     "name": "stdout",
     "output_type": "stream",
     "text": [
      "<class 'int'>\n"
     ]
    }
   ],
   "source": [
    "print(type(5))"
   ]
  },
  {
   "cell_type": "code",
   "execution_count": 34,
   "id": "f0d521b3",
   "metadata": {},
   "outputs": [
    {
     "name": "stdout",
     "output_type": "stream",
     "text": [
      "Mi nonbre es : Juan\n",
      "Mi nonbre es :Juan\n"
     ]
    }
   ],
   "source": [
    "print('Mi nonbre es :', nombre)\n",
    "print(f'Mi nonbre es :{nombre}')"
   ]
  },
  {
   "cell_type": "code",
   "execution_count": 36,
   "id": "14edf945",
   "metadata": {},
   "outputs": [
    {
     "name": "stdout",
     "output_type": "stream",
     "text": [
      "Los datos del curso son: \n",
      "Curso \t\t:Topicos especiales en Inteligencia de Negocios \n",
      "Ciclo \t: Sexto \n",
      "Tipo de curso \t: Electivo\n"
     ]
    }
   ],
   "source": [
    "print(\"Los datos del curso son: \\nCurso \\t\\t:Topicos especiales en Inteligencia de Negocios \\nCiclo \\t: Sexto \\nTipo de curso \\t: Electivo\")"
   ]
  },
  {
   "cell_type": "markdown",
   "id": "eaa13ba6",
   "metadata": {},
   "source": [
    "# 4. Booleanos y condicioneles "
   ]
  },
  {
   "cell_type": "code",
   "execution_count": 38,
   "id": "cc6d2edc",
   "metadata": {},
   "outputs": [
    {
     "name": "stdout",
     "output_type": "stream",
     "text": [
      "<class 'bool'>\n"
     ]
    }
   ],
   "source": [
    "final_page = True\n",
    "print(type(final_page))"
   ]
  },
  {
   "cell_type": "code",
   "execution_count": 41,
   "id": "745233e2",
   "metadata": {},
   "outputs": [
    {
     "name": "stdout",
     "output_type": "stream",
     "text": [
      "Final de la pagina\n"
     ]
    }
   ],
   "source": [
    "if final_page==True:\n",
    "    print(\"Final de la pagina\")\n",
    "else:\n",
    "        print(\"Sigue leyendo\")"
   ]
  },
  {
   "cell_type": "code",
   "execution_count": 42,
   "id": "53f20289",
   "metadata": {},
   "outputs": [
    {
     "data": {
      "text/plain": [
       "False"
      ]
     },
     "execution_count": 42,
     "metadata": {},
     "output_type": "execute_result"
    }
   ],
   "source": [
    "#Operadores lógicos\n",
    "not True"
   ]
  },
  {
   "cell_type": "code",
   "execution_count": 43,
   "id": "279c19e1",
   "metadata": {},
   "outputs": [
    {
     "data": {
      "text/plain": [
       "True"
      ]
     },
     "execution_count": 43,
     "metadata": {},
     "output_type": "execute_result"
    }
   ],
   "source": [
    "not False"
   ]
  },
  {
   "cell_type": "code",
   "execution_count": 44,
   "id": "93bb7add",
   "metadata": {},
   "outputs": [
    {
     "data": {
      "text/plain": [
       "True"
      ]
     },
     "execution_count": 44,
     "metadata": {},
     "output_type": "execute_result"
    }
   ],
   "source": [
    "True and True"
   ]
  },
  {
   "cell_type": "code",
   "execution_count": 45,
   "id": "dd948ee4",
   "metadata": {},
   "outputs": [
    {
     "data": {
      "text/plain": [
       "False"
      ]
     },
     "execution_count": 45,
     "metadata": {},
     "output_type": "execute_result"
    }
   ],
   "source": [
    "True and False"
   ]
  },
  {
   "cell_type": "code",
   "execution_count": 46,
   "id": "6aaf1701",
   "metadata": {},
   "outputs": [
    {
     "data": {
      "text/plain": [
       "True"
      ]
     },
     "execution_count": 46,
     "metadata": {},
     "output_type": "execute_result"
    }
   ],
   "source": [
    "True or False"
   ]
  },
  {
   "cell_type": "code",
   "execution_count": 47,
   "id": "fe7e63a6",
   "metadata": {},
   "outputs": [
    {
     "ename": "TypeError",
     "evalue": "'<' not supported between instances of 'int' and 'str'",
     "output_type": "error",
     "traceback": [
      "\u001b[31m---------------------------------------------------------------------------\u001b[39m",
      "\u001b[31mTypeError\u001b[39m                                 Traceback (most recent call last)",
      "\u001b[36mCell\u001b[39m\u001b[36m \u001b[39m\u001b[32mIn[47]\u001b[39m\u001b[32m, line 2\u001b[39m\n\u001b[32m      1\u001b[39m \u001b[38;5;66;03m#comparadores\u001b[39;00m\n\u001b[32m----> \u001b[39m\u001b[32m2\u001b[39m \u001b[32;43m1\u001b[39;49m\u001b[43m<\u001b[49m\u001b[33;43m\"\u001b[39;49m\u001b[33;43muno\u001b[39;49m\u001b[33;43m\"\u001b[39;49m\n",
      "\u001b[31mTypeError\u001b[39m: '<' not supported between instances of 'int' and 'str'"
     ]
    }
   ],
   "source": [
    "#comparadores\n",
    "1<\"uno\""
   ]
  },
  {
   "cell_type": "markdown",
   "id": "c1648a7e",
   "metadata": {},
   "source": [
    "# 5. Loops"
   ]
  },
  {
   "cell_type": "code",
   "execution_count": 48,
   "id": "1d0014f6",
   "metadata": {},
   "outputs": [
    {
     "name": "stdout",
     "output_type": "stream",
     "text": [
      "H\n",
      "o\n",
      "l\n",
      "a\n",
      " \n",
      "M\n",
      "u\n",
      "n\n",
      "d\n",
      "o\n"
     ]
    }
   ],
   "source": [
    "for letra in \"Hola Mundo\":\n",
    "    print(letra)"
   ]
  },
  {
   "cell_type": "code",
   "execution_count": 49,
   "id": "f22a766c",
   "metadata": {},
   "outputs": [
    {
     "name": "stdout",
     "output_type": "stream",
     "text": [
      "Palabras: ['Hola', 'a', 'todos']\n"
     ]
    }
   ],
   "source": [
    "my_string=\"Hola a todos\"\n",
    "palabras = my_string.split()\n",
    "print(f'Palabras: {palabras}')"
   ]
  },
  {
   "cell_type": "code",
   "execution_count": 50,
   "id": "30ef35d6",
   "metadata": {},
   "outputs": [
    {
     "name": "stdout",
     "output_type": "stream",
     "text": [
      "Hola\n",
      "a\n",
      "todos\n"
     ]
    }
   ],
   "source": [
    "for palabras in palabras:\n",
    "    print(palabras)"
   ]
  },
  {
   "cell_type": "code",
   "execution_count": 57,
   "id": "be35fbb3",
   "metadata": {},
   "outputs": [
    {
     "name": "stdout",
     "output_type": "stream",
     "text": [
      "1 s\n"
     ]
    }
   ],
   "source": [
    "for idx, palabra in enumerate(palabras,1):\n",
    "    print(idx, palabra)"
   ]
  },
  {
   "cell_type": "code",
   "execution_count": 60,
   "id": "7742e423",
   "metadata": {},
   "outputs": [
    {
     "name": "stdout",
     "output_type": "stream",
     "text": [
      "Intento numero: 1\n",
      "Intento numero: 2\n",
      "Intento numero: 3\n",
      "Intento numero: 4\n",
      "Intento numero: 5\n"
     ]
    }
   ],
   "source": [
    "# trabajando con white LOOPS\n",
    "max_intento=5\n",
    "intento=1\n",
    "while intento <= max_intento:\n",
    "    print(f'Intento numero: {intento}')\n",
    "    intento +=1"
   ]
  }
 ],
 "metadata": {
  "kernelspec": {
   "display_name": "myenv (3.13.5)",
   "language": "python",
   "name": "python3"
  },
  "language_info": {
   "codemirror_mode": {
    "name": "ipython",
    "version": 3
   },
   "file_extension": ".py",
   "mimetype": "text/x-python",
   "name": "python",
   "nbconvert_exporter": "python",
   "pygments_lexer": "ipython3",
   "version": "3.13.5"
  }
 },
 "nbformat": 4,
 "nbformat_minor": 5
}
