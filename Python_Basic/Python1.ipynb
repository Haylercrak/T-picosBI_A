{
 "cells": [
  {
   "cell_type": "markdown",
   "id": "9616eab5",
   "metadata": {},
   "source": [
    "# Python for big data\n",
    "\n",
    "1. Variebles\n",
    "2. String\n",
    "3. Fuction print\n",
    "4. Booleanos y Condicionales\n",
    "5. Loops\n",
    "6. Funciones\n",
    "7. Manejo de exepciones\n"
   ]
  },
  {
   "cell_type": "markdown",
   "id": "360498b8",
   "metadata": {},
   "source": [
    "# 1. Variables "
   ]
  },
  {
   "cell_type": "code",
   "execution_count": 7,
   "id": "cb30f015",
   "metadata": {},
   "outputs": [
    {
     "ename": "NameError",
     "evalue": "name 'resultado' is not defined",
     "output_type": "error",
     "traceback": [
      "\u001b[31m---------------------------------------------------------------------------\u001b[39m",
      "\u001b[31mNameError\u001b[39m                                 Traceback (most recent call last)",
      "\u001b[36mCell\u001b[39m\u001b[36m \u001b[39m\u001b[32mIn[7]\u001b[39m\u001b[32m, line 2\u001b[39m\n\u001b[32m      1\u001b[39m \u001b[38;5;66;03m#  Variables\u001b[39;00m\n\u001b[32m----> \u001b[39m\u001b[32m2\u001b[39m \u001b[43mresultado\u001b[49m\n",
      "\u001b[31mNameError\u001b[39m: name 'resultado' is not defined"
     ]
    }
   ],
   "source": [
    "#  Variables\n",
    "resultado"
   ]
  },
  {
   "cell_type": "code",
   "execution_count": 8,
   "id": "6de7eb9f",
   "metadata": {},
   "outputs": [],
   "source": [
    "# Declaracion de vcariables\n",
    "monto_deuda=1000\n",
    "moneda=\"soles\"\n"
   ]
  },
  {
   "cell_type": "code",
   "execution_count": 9,
   "id": "1320ad47",
   "metadata": {},
   "outputs": [
    {
     "data": {
      "text/plain": [
       "1000"
      ]
     },
     "execution_count": 9,
     "metadata": {},
     "output_type": "execute_result"
    }
   ],
   "source": [
    "# mostrar Variables\n",
    "monto_deuda"
   ]
  },
  {
   "cell_type": "code",
   "execution_count": 10,
   "id": "9a00a501",
   "metadata": {},
   "outputs": [
    {
     "data": {
      "text/plain": [
       "'soles'"
      ]
     },
     "execution_count": 10,
     "metadata": {},
     "output_type": "execute_result"
    }
   ],
   "source": [
    "moneda"
   ]
  },
  {
   "cell_type": "code",
   "execution_count": null,
   "id": "fc6359bd",
   "metadata": {},
   "outputs": [],
   "source": [
    "# Interactuar con el usuario\n",
    "monto_interes=int(input(\"Ingrese el interes:\"))"
   ]
  },
  {
   "cell_type": "code",
   "execution_count": 11,
   "id": "fb9bae55",
   "metadata": {},
   "outputs": [
    {
     "data": {
      "text/plain": [
       "4000"
      ]
     },
     "execution_count": 11,
     "metadata": {},
     "output_type": "execute_result"
    }
   ],
   "source": [
    "# Operando \n",
    "resultado =monto_deuda*4\n",
    "resultado"
   ]
  },
  {
   "cell_type": "code",
   "execution_count": 12,
   "id": "a2887cfd",
   "metadata": {},
   "outputs": [
    {
     "data": {
      "text/plain": [
       "int"
      ]
     },
     "execution_count": 12,
     "metadata": {},
     "output_type": "execute_result"
    }
   ],
   "source": [
    "# tipo de variable\n",
    "type(monto_deuda)"
   ]
  },
  {
   "cell_type": "code",
   "execution_count": 13,
   "id": "6e1ddc42",
   "metadata": {},
   "outputs": [
    {
     "data": {
      "text/plain": [
       "str"
      ]
     },
     "execution_count": 13,
     "metadata": {},
     "output_type": "execute_result"
    }
   ],
   "source": [
    "type(moneda)"
   ]
  },
  {
   "cell_type": "code",
   "execution_count": 14,
   "id": "d2eea001",
   "metadata": {},
   "outputs": [
    {
     "data": {
      "text/plain": [
       "16000"
      ]
     },
     "execution_count": 14,
     "metadata": {},
     "output_type": "execute_result"
    }
   ],
   "source": [
    "# operar variables\n",
    "4*resultado"
   ]
  },
  {
   "cell_type": "code",
   "execution_count": 15,
   "id": "a339c6cf",
   "metadata": {},
   "outputs": [
    {
     "data": {
      "text/plain": [
       "'1000'"
      ]
     },
     "execution_count": 15,
     "metadata": {},
     "output_type": "execute_result"
    }
   ],
   "source": [
    "# canbiando tipo variable\n",
    "str_monto_deuda=str(monto_deuda)\n",
    "str_monto_deuda"
   ]
  },
  {
   "cell_type": "code",
   "execution_count": 16,
   "id": "0e124de0",
   "metadata": {},
   "outputs": [
    {
     "data": {
      "text/plain": [
       "1000"
      ]
     },
     "execution_count": 16,
     "metadata": {},
     "output_type": "execute_result"
    }
   ],
   "source": [
    "int_monto_deuda=int(str_monto_deuda)\n",
    "int_monto_deuda"
   ]
  },
  {
   "cell_type": "markdown",
   "id": "4ddb4d73",
   "metadata": {},
   "source": [
    "# 2. String"
   ]
  },
  {
   "cell_type": "code",
   "execution_count": 17,
   "id": "10d874fa",
   "metadata": {},
   "outputs": [
    {
     "data": {
      "text/plain": [
       "'hola mundo'"
      ]
     },
     "execution_count": 17,
     "metadata": {},
     "output_type": "execute_result"
    }
   ],
   "source": [
    "# concaternar\n",
    "'hola' + ' ' + 'mundo'"
   ]
  },
  {
   "cell_type": "code",
   "execution_count": 18,
   "id": "c130d42e",
   "metadata": {},
   "outputs": [],
   "source": [
    "# comollas simples y dobles\n",
    "text_1=\"hola 'mundo'\"\n",
    "text_2='hola \"mundo\"'"
   ]
  },
  {
   "cell_type": "code",
   "execution_count": 19,
   "id": "aa25b817",
   "metadata": {},
   "outputs": [
    {
     "data": {
      "text/plain": [
       "\"hola 'mundo'\""
      ]
     },
     "execution_count": 19,
     "metadata": {},
     "output_type": "execute_result"
    }
   ],
   "source": [
    "text_1"
   ]
  },
  {
   "cell_type": "code",
   "execution_count": 20,
   "id": "10fd7abf",
   "metadata": {},
   "outputs": [
    {
     "data": {
      "text/plain": [
       "'hola \"mundo\"'"
      ]
     },
     "execution_count": 20,
     "metadata": {},
     "output_type": "execute_result"
    }
   ],
   "source": [
    "text_2"
   ]
  },
  {
   "cell_type": "code",
   "execution_count": 21,
   "id": "a69cbb3f",
   "metadata": {},
   "outputs": [],
   "source": [
    "# comillas triples\n",
    "consulta =\"\"\"SELECT *\n",
    "FROM users\n",
    "WHERE id=1\n",
    "group by Admin\n",
    "\"\"\""
   ]
  },
  {
   "cell_type": "code",
   "execution_count": 22,
   "id": "0682bd62",
   "metadata": {},
   "outputs": [
    {
     "data": {
      "text/plain": [
       "'SELECT *\\nFROM users\\nWHERE id=1\\ngroup by Admin\\n'"
      ]
     },
     "execution_count": 22,
     "metadata": {},
     "output_type": "execute_result"
    }
   ],
   "source": [
    "consulta"
   ]
  },
  {
   "cell_type": "code",
   "execution_count": 23,
   "id": "c2ffb508",
   "metadata": {},
   "outputs": [],
   "source": [
    "# operaciones con strings\n",
    "CADENA_1='hola mundo'\n",
    "CADENA_2='5'\n",
    "CADENA_3='CINCO'\n"
   ]
  },
  {
   "cell_type": "code",
   "execution_count": 24,
   "id": "03dcd607",
   "metadata": {},
   "outputs": [
    {
     "data": {
      "text/plain": [
       "'Hola mundo'"
      ]
     },
     "execution_count": 24,
     "metadata": {},
     "output_type": "execute_result"
    }
   ],
   "source": [
    "CADENA_1.capitalize()"
   ]
  },
  {
   "cell_type": "code",
   "execution_count": 25,
   "id": "effc1a53",
   "metadata": {},
   "outputs": [
    {
     "data": {
      "text/plain": [
       "'HOLA MUNDO'"
      ]
     },
     "execution_count": 25,
     "metadata": {},
     "output_type": "execute_result"
    }
   ],
   "source": [
    "CADENA_1.upper()"
   ]
  },
  {
   "cell_type": "code",
   "execution_count": 26,
   "id": "9a50adf6",
   "metadata": {},
   "outputs": [
    {
     "data": {
      "text/plain": [
       "'cinco'"
      ]
     },
     "execution_count": 26,
     "metadata": {},
     "output_type": "execute_result"
    }
   ],
   "source": [
    "CADENA_3.lower()"
   ]
  },
  {
   "cell_type": "code",
   "execution_count": 27,
   "id": "23955950",
   "metadata": {},
   "outputs": [
    {
     "data": {
      "text/plain": [
       "'Hola Mundo'"
      ]
     },
     "execution_count": 27,
     "metadata": {},
     "output_type": "execute_result"
    }
   ],
   "source": [
    "CADENA_1.title()"
   ]
  },
  {
   "cell_type": "code",
   "execution_count": 28,
   "id": "3a486109",
   "metadata": {},
   "outputs": [
    {
     "data": {
      "text/plain": [
       "['hola', 'mundo']"
      ]
     },
     "execution_count": 28,
     "metadata": {},
     "output_type": "execute_result"
    }
   ],
   "source": [
    "CADENA_1.split()"
   ]
  },
  {
   "cell_type": "code",
   "execution_count": 29,
   "id": "08489c47",
   "metadata": {},
   "outputs": [
    {
     "data": {
      "text/plain": [
       "2"
      ]
     },
     "execution_count": 29,
     "metadata": {},
     "output_type": "execute_result"
    }
   ],
   "source": [
    "CADENA_1.count('o')"
   ]
  },
  {
   "cell_type": "code",
   "execution_count": 30,
   "id": "7b4c9185",
   "metadata": {},
   "outputs": [
    {
     "data": {
      "text/plain": [
       "10"
      ]
     },
     "execution_count": 30,
     "metadata": {},
     "output_type": "execute_result"
    }
   ],
   "source": [
    "# LONGITUD DE CADENA\n",
    "len(CADENA_1)"
   ]
  },
  {
   "cell_type": "code",
   "execution_count": 31,
   "id": "9a8bad88",
   "metadata": {},
   "outputs": [
    {
     "data": {
      "text/plain": [
       "['', 'ola mundo']"
      ]
     },
     "execution_count": 31,
     "metadata": {},
     "output_type": "execute_result"
    }
   ],
   "source": [
    "# QUITAR LETRA DEL STRING\n",
    "CADENA_1.split('h')"
   ]
  },
  {
   "cell_type": "code",
   "execution_count": 32,
   "id": "6d04d903",
   "metadata": {},
   "outputs": [
    {
     "data": {
      "text/plain": [
       "'(hola mundo),'"
      ]
     },
     "execution_count": 32,
     "metadata": {},
     "output_type": "execute_result"
    }
   ],
   "source": [
    "# linpiando estremos de un string\n",
    "CADENA_4='(hola mundo), '\n",
    "CADENA_4.strip()"
   ]
  },
  {
   "cell_type": "code",
   "execution_count": 33,
   "id": "93e7eca9",
   "metadata": {},
   "outputs": [
    {
     "data": {
      "text/plain": [
       "'hola mundo'"
      ]
     },
     "execution_count": 33,
     "metadata": {},
     "output_type": "execute_result"
    }
   ],
   "source": [
    "CADENA_4.strip('(), ') "
   ]
  },
  {
   "cell_type": "code",
   "execution_count": 34,
   "id": "d9ebb6e2",
   "metadata": {},
   "outputs": [
    {
     "data": {
      "text/plain": [
       "'adios mundo, adios python'"
      ]
     },
     "execution_count": 34,
     "metadata": {},
     "output_type": "execute_result"
    }
   ],
   "source": [
    "# renplazar string\n",
    "cadena_5='hola mundo, hola python'\n",
    "cadena_5.replace('hola','adios')"
   ]
  }
 ],
 "metadata": {
  "kernelspec": {
   "display_name": "myenv (3.13.5)",
   "language": "python",
   "name": "python3"
  },
  "language_info": {
   "codemirror_mode": {
    "name": "ipython",
    "version": 3
   },
   "file_extension": ".py",
   "mimetype": "text/x-python",
   "name": "python",
   "nbconvert_exporter": "python",
   "pygments_lexer": "ipython3",
   "version": "3.13.5"
  }
 },
 "nbformat": 4,
 "nbformat_minor": 5
}
