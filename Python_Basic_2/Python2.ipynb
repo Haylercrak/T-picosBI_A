{
 "cells": [
  {
   "cell_type": "markdown",
   "id": "6d663833",
   "metadata": {},
   "source": [
    "# Python using Pandas and Numpy for Big Data\n",
    "\n",
    "Intalar la librerias Pandas, Nunpy para trabajar con datos masibos."
   ]
  }
 ],
 "metadata": {
  "language_info": {
   "name": "python"
  }
 },
 "nbformat": 4,
 "nbformat_minor": 5
}
