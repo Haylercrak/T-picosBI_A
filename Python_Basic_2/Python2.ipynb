{
 "cells": [
  {
   "cell_type": "markdown",
   "id": "6d663833",
   "metadata": {},
   "source": [
    "# Python using Pandas and Numpy for Big Data\n",
    "\n",
    "Intalar la librerias Pandas, Nunpy para trabajar con datos masibos."
   ]
  },
  {
   "cell_type": "markdown",
   "id": "7dbfea9f",
   "metadata": {},
   "source": [
    "## Summary\n",
    "1. Range\n",
    "2. List Comprenhnsion\n",
    "3. Instrucciones\n",
    "4. Fechas"
   ]
  },
  {
   "cell_type": "code",
   "execution_count": 2,
   "id": "20b745e5",
   "metadata": {},
   "outputs": [
    {
     "name": "stdout",
     "output_type": "stream",
     "text": [
      "range(0, 9)\n"
     ]
    }
   ],
   "source": [
    "# Range \n",
    "list = range(9)\n",
    "print(list)"
   ]
  },
  {
   "cell_type": "code",
   "execution_count": 3,
   "id": "12dc64e6",
   "metadata": {},
   "outputs": [
    {
     "name": "stdout",
     "output_type": "stream",
     "text": [
      "0\n",
      "1\n",
      "2\n",
      "3\n",
      "4\n",
      "5\n",
      "6\n",
      "7\n",
      "8\n"
     ]
    }
   ],
   "source": [
    "for i in range(9):\n",
    "    print(i)    "
   ]
  },
  {
   "cell_type": "code",
   "execution_count": null,
   "id": "153f83b9",
   "metadata": {},
   "outputs": [],
   "source": []
  }
 ],
 "metadata": {
  "kernelspec": {
   "display_name": "myenv (3.13.5)",
   "language": "python",
   "name": "python3"
  },
  "language_info": {
   "codemirror_mode": {
    "name": "ipython",
    "version": 3
   },
   "file_extension": ".py",
   "mimetype": "text/x-python",
   "name": "python",
   "nbconvert_exporter": "python",
   "pygments_lexer": "ipython3",
   "version": "3.13.5"
  }
 },
 "nbformat": 4,
 "nbformat_minor": 5
}
